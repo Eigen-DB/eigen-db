{
 "cells": [
  {
   "cell_type": "markdown",
   "id": "b25bfba4",
   "metadata": {},
   "source": [
    "### Retrieval-Augmented Generation (RAG) using EigenDB\n",
    "\n",
    "Dataset: https://huggingface.co/ngxson/demo_simple_rag_py/blob/main/cat-facts.txt"
   ]
  },
  {
   "cell_type": "code",
   "execution_count": 1,
   "id": "0a6b76c5",
   "metadata": {},
   "outputs": [
    {
     "data": {
      "text/plain": [
       "True"
      ]
     },
     "execution_count": 1,
     "metadata": {},
     "output_type": "execute_result"
    }
   ],
   "source": [
    "from eigen_py.index import Index\n",
    "from eigen_py.data_types import Document\n",
    "\n",
    "from ollama import chat\n",
    "from dotenv import load_dotenv\n",
    "import os\n",
    "import re\n",
    "\n",
    "load_dotenv()  "
   ]
  },
  {
   "cell_type": "code",
   "execution_count": 2,
   "id": "9beab6ee",
   "metadata": {},
   "outputs": [],
   "source": [
    "LLM_NAME = \"tinyllama:latest\" # using Ollama for LLM inference"
   ]
  },
  {
   "cell_type": "code",
   "execution_count": 3,
   "id": "46fcad84",
   "metadata": {},
   "outputs": [
    {
     "name": "stdout",
     "output_type": "stream",
     "text": [
      "Authentication successful: Authenticated.\n"
     ]
    },
    {
     "data": {
      "text/plain": [
       "EigenDB_Index(url=http://localhost:8080)"
      ]
     },
     "execution_count": 3,
     "metadata": {},
     "output_type": "execute_result"
    }
   ],
   "source": [
    "index = Index(\n",
    "    url=\"http://localhost:8080\",\n",
    "    api_key=\"7fd845ada2798ba93e25fa3c93b267f4\",\n",
    "    model_name=\"text-embedding-3-small\",\n",
    "    model_provider=\"openai\",\n",
    "    model_provider_api_key=os.getenv(\"OPENAI_TOKEN\")\n",
    ")\n",
    "index"
   ]
  },
  {
   "cell_type": "code",
   "execution_count": 4,
   "id": "8ba20697",
   "metadata": {},
   "outputs": [],
   "source": [
    "def query_llm(query: str) -> str:\n",
    "    res = chat(\n",
    "        model=LLM_NAME, \n",
    "        messages=[\n",
    "            {\n",
    "                'role': 'system', \n",
    "                'content': 'You are a helpful assistant that answers questions using any provided context and your own knowledge to help your answer. If you are unsure, say \"I do not know\". Don\\'t make up answers.'\n",
    "            }, \n",
    "            {\n",
    "                'role': 'user', \n",
    "                'content': query\n",
    "            }\n",
    "        ]\n",
    "    )\n",
    "    response = res['message']['content']\n",
    "    return response\n"
   ]
  },
  {
   "cell_type": "code",
   "execution_count": 5,
   "id": "63e0a999",
   "metadata": {},
   "outputs": [
    {
     "data": {
      "text/plain": [
       "150"
      ]
     },
     "execution_count": 5,
     "metadata": {},
     "output_type": "execute_result"
    }
   ],
   "source": [
    "with open('datasets/cat_facts/cat-facts.txt', 'r') as f:\n",
    "    facts = f.readlines()\n",
    "    facts = [Document(id=i, data=re.sub(r'\\n', '', facts[i]), metadata={}) for i in range(len(facts))]\n",
    "len(facts)"
   ]
  },
  {
   "cell_type": "code",
   "execution_count": 6,
   "id": "0de6568b",
   "metadata": {},
   "outputs": [],
   "source": [
    "index.upsert_docs(facts)"
   ]
  },
  {
   "cell_type": "code",
   "execution_count": 9,
   "id": "db65c132",
   "metadata": {},
   "outputs": [],
   "source": [
    "def query_rag_pipeline(query: str, k: int = 5) -> str:\n",
    "    results = index.search_docs(string=query, k=k)\n",
    "    context = \"\\n\".join([facts[int(embedding_id)].data for embedding_id in results.keys()])\n",
    "    full_query = f\"CONTEXT:\\n{context}\\n\\nQUESTION:\\n{query}\"\n",
    "    return query_llm(full_query), context"
   ]
  },
  {
   "cell_type": "code",
   "execution_count": 10,
   "id": "e10a06ad",
   "metadata": {},
   "outputs": [
    {
     "name": "stdout",
     "output_type": "stream",
     "text": [
      "ADDED CONTEXT:\n",
      "While it is commonly thought that the ancient Egyptians were the first to domesticate cats, the oldest known pet cat was recently found in a 9,500-year-old grave on the Mediterranean island of Cyprus. This grave predates early Egyptian art depicting cats by 4,000 years or more.\n",
      "In ancient Egypt, killing a cat was a crime punishable by death.\n",
      "In ancient Egypt, mummies were made of cats, and embalmed mice were placed with them in their tombs. In one ancient city, over 300,000 cat mummies were found.\n",
      "When a family cat died in ancient Egypt, family members would mourn by shaving off their eyebrows. They also held elaborate funerals during which they drank wine and beat their breasts. The cat was embalmed with a sculpted wooden mask and the tiny mummy was placed in the family tomb or in a pet cemetery with tiny mummies of mice.\n",
      "Smuggling a cat out of ancient Egypt was punishable by death. Phoenician traders eventually succeeded in smuggling felines, which they sold to rich people in Athens and other important cities.\n",
      "\n",
      "\n",
      "ANSWER:\n",
      "CONTEXT:\n",
      "While it is commonly thought that the ancient Egyptians were the first to domesticate cat, the oldest known pet cat was recently found in a 9,500-year-old grave on the Mediterranean island of Cyprus. This grave predates early Egyptian art depicting cat, which dates back to around 3200 BCE. The ancient Egyptians were notorious for killing cats as a punishment for mischief or misbehavior. In ancient Egypt, muummies were made of felines, and their bodies were placed in tombs for centuries after death. However, family members also held elaborate funeral rituals during which they drew on the earlobes, shaved off their eyebrows, and drained wine from their cups, in order to honor their deceased loved ones. In the ancient city of Avaris, over 300,000 cats were found, with their bodies embalmed with wooden masks, tiny muummies made of wood, and their tiny body parts placed in family tombs or pet ceeterieys. Smuggling a cat out of Egypt for trade was a crime punishable by death.\n"
     ]
    }
   ],
   "source": [
    "answer, context = query_rag_pipeline(\"Were cats very important in ancient Egypt?\")\n",
    "print(f\"ADDED CONTEXT:\\n{context}\\n\\n\")\n",
    "print(f\"ANSWER:\\n{answer}\")"
   ]
  }
 ],
 "metadata": {
  "kernelspec": {
   "display_name": "Python 3",
   "language": "python",
   "name": "python3"
  },
  "language_info": {
   "codemirror_mode": {
    "name": "ipython",
    "version": 3
   },
   "file_extension": ".py",
   "mimetype": "text/x-python",
   "name": "python",
   "nbconvert_exporter": "python",
   "pygments_lexer": "ipython3",
   "version": "3.9.5"
  }
 },
 "nbformat": 4,
 "nbformat_minor": 5
}
