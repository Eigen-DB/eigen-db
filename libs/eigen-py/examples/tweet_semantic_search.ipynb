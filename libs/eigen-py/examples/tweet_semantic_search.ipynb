{
 "cells": [
  {
   "cell_type": "markdown",
   "id": "b25bfba4",
   "metadata": {},
   "source": [
    "### Tweet Semantic Search using EigenDB\n",
    "\n",
    "Dataset: https://www.kaggle.com/datasets/kazanova/sentiment140/data (a subset of the first 1000 rows is used)"
   ]
  },
  {
   "cell_type": "code",
   "execution_count": 24,
   "id": "0a6b76c5",
   "metadata": {},
   "outputs": [
    {
     "data": {
      "text/plain": [
       "True"
      ]
     },
     "execution_count": 24,
     "metadata": {},
     "output_type": "execute_result"
    }
   ],
   "source": [
    "from eigen_py.index import EigenIndex\n",
    "from eigen_py.data_types import Text\n",
    "\n",
    "import pandas as pd\n",
    "import os\n",
    "\n",
    "from dotenv import load_dotenv\n",
    "load_dotenv()"
   ]
  },
  {
   "cell_type": "code",
   "execution_count": 25,
   "id": "46fcad84",
   "metadata": {},
   "outputs": [
    {
     "name": "stdout",
     "output_type": "stream",
     "text": [
      "Authentication successful: Authenticated.\n"
     ]
    },
    {
     "data": {
      "text/plain": [
       "EigenIndex(url=http://localhost:8080)"
      ]
     },
     "execution_count": 25,
     "metadata": {},
     "output_type": "execute_result"
    }
   ],
   "source": [
    "index = EigenIndex(\n",
    "    url=\"http://localhost:8080\",\n",
    "    api_key=\"8685afc77dcf6965ce311d96d812d373\",\n",
    "    model_name=\"text-embedding-3-small\",\n",
    "    model_provider=\"openai\",\n",
    "    model_provider_api_key=os.getenv(\"OPENAI_TOKEN\")\n",
    ")\n",
    "index"
   ]
  },
  {
   "cell_type": "code",
   "execution_count": 37,
   "id": "93f237ff",
   "metadata": {},
   "outputs": [
    {
     "data": {
      "text/html": [
       "<div>\n",
       "<style scoped>\n",
       "    .dataframe tbody tr th:only-of-type {\n",
       "        vertical-align: middle;\n",
       "    }\n",
       "\n",
       "    .dataframe tbody tr th {\n",
       "        vertical-align: top;\n",
       "    }\n",
       "\n",
       "    .dataframe thead th {\n",
       "        text-align: right;\n",
       "    }\n",
       "</style>\n",
       "<table border=\"1\" class=\"dataframe\">\n",
       "  <thead>\n",
       "    <tr style=\"text-align: right;\">\n",
       "      <th></th>\n",
       "      <th>target</th>\n",
       "      <th>ids</th>\n",
       "      <th>date</th>\n",
       "      <th>flag</th>\n",
       "      <th>user</th>\n",
       "      <th>text</th>\n",
       "    </tr>\n",
       "  </thead>\n",
       "  <tbody>\n",
       "    <tr>\n",
       "      <th>0</th>\n",
       "      <td>0</td>\n",
       "      <td>1467810369</td>\n",
       "      <td>Mon Apr 06 22:19:45 PDT 2009</td>\n",
       "      <td>NO_QUERY</td>\n",
       "      <td>_TheSpecialOne_</td>\n",
       "      <td>@switchfoot http://twitpic.com/2y1zl - Awww, t...</td>\n",
       "    </tr>\n",
       "    <tr>\n",
       "      <th>1</th>\n",
       "      <td>0</td>\n",
       "      <td>1467810672</td>\n",
       "      <td>Mon Apr 06 22:19:49 PDT 2009</td>\n",
       "      <td>NO_QUERY</td>\n",
       "      <td>scotthamilton</td>\n",
       "      <td>is upset that he can't update his Facebook by ...</td>\n",
       "    </tr>\n",
       "    <tr>\n",
       "      <th>2</th>\n",
       "      <td>0</td>\n",
       "      <td>1467810917</td>\n",
       "      <td>Mon Apr 06 22:19:53 PDT 2009</td>\n",
       "      <td>NO_QUERY</td>\n",
       "      <td>mattycus</td>\n",
       "      <td>@Kenichan I dived many times for the ball. Man...</td>\n",
       "    </tr>\n",
       "    <tr>\n",
       "      <th>3</th>\n",
       "      <td>0</td>\n",
       "      <td>1467811184</td>\n",
       "      <td>Mon Apr 06 22:19:57 PDT 2009</td>\n",
       "      <td>NO_QUERY</td>\n",
       "      <td>ElleCTF</td>\n",
       "      <td>my whole body feels itchy and like its on fire</td>\n",
       "    </tr>\n",
       "    <tr>\n",
       "      <th>4</th>\n",
       "      <td>0</td>\n",
       "      <td>1467811193</td>\n",
       "      <td>Mon Apr 06 22:19:57 PDT 2009</td>\n",
       "      <td>NO_QUERY</td>\n",
       "      <td>Karoli</td>\n",
       "      <td>@nationwideclass no, it's not behaving at all....</td>\n",
       "    </tr>\n",
       "    <tr>\n",
       "      <th>...</th>\n",
       "      <td>...</td>\n",
       "      <td>...</td>\n",
       "      <td>...</td>\n",
       "      <td>...</td>\n",
       "      <td>...</td>\n",
       "      <td>...</td>\n",
       "    </tr>\n",
       "    <tr>\n",
       "      <th>995</th>\n",
       "      <td>0</td>\n",
       "      <td>1468055262</td>\n",
       "      <td>Mon Apr 06 23:28:39 PDT 2009</td>\n",
       "      <td>NO_QUERY</td>\n",
       "      <td>LarryEisner</td>\n",
       "      <td>@dkoenigs thanks man.  I'm so very grateful.  ...</td>\n",
       "    </tr>\n",
       "    <tr>\n",
       "      <th>996</th>\n",
       "      <td>0</td>\n",
       "      <td>1468055266</td>\n",
       "      <td>Mon Apr 06 23:28:41 PDT 2009</td>\n",
       "      <td>NO_QUERY</td>\n",
       "      <td>ohmigosh_dusti</td>\n",
       "      <td>@t_wolfe  i miss u too. i'm totally comin back...</td>\n",
       "    </tr>\n",
       "    <tr>\n",
       "      <th>997</th>\n",
       "      <td>0</td>\n",
       "      <td>1468055472</td>\n",
       "      <td>Mon Apr 06 23:28:43 PDT 2009</td>\n",
       "      <td>NO_QUERY</td>\n",
       "      <td>tiphaniebrooke</td>\n",
       "      <td>@sniffinglue ohhh. I love it. ps I'm sad we di...</td>\n",
       "    </tr>\n",
       "    <tr>\n",
       "      <th>998</th>\n",
       "      <td>0</td>\n",
       "      <td>1468055604</td>\n",
       "      <td>Mon Apr 06 23:28:45 PDT 2009</td>\n",
       "      <td>NO_QUERY</td>\n",
       "      <td>rinahannah</td>\n",
       "      <td>And somehow I still end up in this place</td>\n",
       "    </tr>\n",
       "    <tr>\n",
       "      <th>999</th>\n",
       "      <td>0</td>\n",
       "      <td>1468055791</td>\n",
       "      <td>Mon Apr 06 23:28:49 PDT 2009</td>\n",
       "      <td>NO_QUERY</td>\n",
       "      <td>ecjc</td>\n",
       "      <td>@kisluvkis oh that is very sad, poor boy.</td>\n",
       "    </tr>\n",
       "  </tbody>\n",
       "</table>\n",
       "<p>1000 rows × 6 columns</p>\n",
       "</div>"
      ],
      "text/plain": [
       "     target         ids                          date      flag  \\\n",
       "0         0  1467810369  Mon Apr 06 22:19:45 PDT 2009  NO_QUERY   \n",
       "1         0  1467810672  Mon Apr 06 22:19:49 PDT 2009  NO_QUERY   \n",
       "2         0  1467810917  Mon Apr 06 22:19:53 PDT 2009  NO_QUERY   \n",
       "3         0  1467811184  Mon Apr 06 22:19:57 PDT 2009  NO_QUERY   \n",
       "4         0  1467811193  Mon Apr 06 22:19:57 PDT 2009  NO_QUERY   \n",
       "..      ...         ...                           ...       ...   \n",
       "995       0  1468055262  Mon Apr 06 23:28:39 PDT 2009  NO_QUERY   \n",
       "996       0  1468055266  Mon Apr 06 23:28:41 PDT 2009  NO_QUERY   \n",
       "997       0  1468055472  Mon Apr 06 23:28:43 PDT 2009  NO_QUERY   \n",
       "998       0  1468055604  Mon Apr 06 23:28:45 PDT 2009  NO_QUERY   \n",
       "999       0  1468055791  Mon Apr 06 23:28:49 PDT 2009  NO_QUERY   \n",
       "\n",
       "                user                                               text  \n",
       "0    _TheSpecialOne_  @switchfoot http://twitpic.com/2y1zl - Awww, t...  \n",
       "1      scotthamilton  is upset that he can't update his Facebook by ...  \n",
       "2           mattycus  @Kenichan I dived many times for the ball. Man...  \n",
       "3            ElleCTF    my whole body feels itchy and like its on fire   \n",
       "4             Karoli  @nationwideclass no, it's not behaving at all....  \n",
       "..               ...                                                ...  \n",
       "995      LarryEisner  @dkoenigs thanks man.  I'm so very grateful.  ...  \n",
       "996   ohmigosh_dusti  @t_wolfe  i miss u too. i'm totally comin back...  \n",
       "997   tiphaniebrooke  @sniffinglue ohhh. I love it. ps I'm sad we di...  \n",
       "998       rinahannah          And somehow I still end up in this place   \n",
       "999             ecjc         @kisluvkis oh that is very sad, poor boy.   \n",
       "\n",
       "[1000 rows x 6 columns]"
      ]
     },
     "execution_count": 37,
     "metadata": {},
     "output_type": "execute_result"
    }
   ],
   "source": [
    "df = pd.read_csv(\"./datasets/tweets/tweets.csv\")\n",
    "df"
   ]
  },
  {
   "cell_type": "code",
   "execution_count": 39,
   "id": "fc28ca49",
   "metadata": {},
   "outputs": [
    {
     "data": {
      "text/plain": [
       "[Text(id=0 data=@switchfoot http://twitpic.com/2y1zl - Awww, that's a bummer.  You shoulda got David Carr of Third Day to do it. ;D, metadata={'id': '1467810369'}),\n",
       " Text(id=1 data=is upset that he can't update his Facebook by texting it... and might cry as a result  School today also. Blah!, metadata={'id': '1467810672'}),\n",
       " Text(id=2 data=@Kenichan I dived many times for the ball. Managed to save 50%  The rest go out of bounds, metadata={'id': '1467810917'}),\n",
       " Text(id=3 data=my whole body feels itchy and like its on fire , metadata={'id': '1467811184'}),\n",
       " Text(id=4 data=@nationwideclass no, it's not behaving at all. i'm mad. why am i here? because I can't see you all over there. , metadata={'id': '1467811193'})]"
      ]
     },
     "execution_count": 39,
     "metadata": {},
     "output_type": "execute_result"
    }
   ],
   "source": [
    "tweets = [Text(id=index, data=row['text'], metadata={\"id\": str(row['ids'])}) for index, row in df.iterrows()]\n",
    "tweets[:5]"
   ]
  },
  {
   "cell_type": "code",
   "execution_count": 40,
   "id": "ed2b9548",
   "metadata": {},
   "outputs": [],
   "source": [
    "index.upsert_text(tweets)"
   ]
  },
  {
   "cell_type": "code",
   "execution_count": 41,
   "id": "f14314ba",
   "metadata": {},
   "outputs": [
    {
     "name": "stdout",
     "output_type": "stream",
     "text": [
      "Author: @BustaBusta\n",
      "Tweet: \"I know my life has been flipped upside down when I just thought in my head that some Ramen sounds good. \"\n",
      "Rank: 0\n",
      "\n",
      "Author: @mitrepeak\n",
      "Tweet: \"http://twitpic.com/2y3cf - Filled with curry  the true indian in me is coming out\"\n",
      "Rank: 3\n",
      "\n",
      "Author: @NikNaki08\n",
      "Tweet: \"i might break down and eat some buffalo wings tomorrow \"\n",
      "Rank: 2\n",
      "\n",
      "Author: @Moonflowerchild\n",
      "Tweet: \"@Steve_Buscemi SHUT UP you...I am hungry! And in Britain, home of the most boring suckassy breakfast in the world!  I MISS DENNYS!!\"\n",
      "Rank: 1\n",
      "\n",
      "Author: @tessthetraveler\n",
      "Tweet: \"@BATMANNN  i love chutney......\"\n",
      "Rank: 4\n",
      "\n"
     ]
    }
   ],
   "source": [
    "results = index.search_text(text=\"I love eating amazing food\", k=5)\n",
    "\n",
    "# rank of 0 is the most similar to the query\n",
    "for tweet in results.values():\n",
    "    tweet_id = tweet['metadata']['id']\n",
    "    tweet_data = df[df['ids'] == int(tweet_id)]\n",
    "    print(f\"Author: @{tweet_data['user'].values[0]}\\nTweet: \\\"{tweet_data['text'].values[0]}\\\"\\nRank: {tweet['rank']}\\n\")"
   ]
  },
  {
   "cell_type": "code",
   "execution_count": 42,
   "id": "6a91af6a",
   "metadata": {},
   "outputs": [
    {
     "name": "stdout",
     "output_type": "stream",
     "text": [
      "Author: @JamieMphoto\n",
      "Tweet: \"@SaveTheStrib Dang! I would have done this if I knew it was there earlier.  Any other outings planned?\"\n",
      "Rank: 3\n",
      "\n",
      "Author: @larabehnert\n",
      "Tweet: \"@trishzw megafast trip, you have time during day tom/weds? Or, you going out tonight? Want to see you bad. Tried to warn you, tech fail \"\n",
      "Rank: 0\n",
      "\n",
      "Author: @wiwiwinDra\n",
      "Tweet: \"vacations makes me feel sick! \"\n",
      "Rank: 2\n",
      "\n",
      "Author: @driveaway2008\n",
      "Tweet: \"@statravelAU just got ur newsletter, those fares really are unbelievable, shame I already booked and paid for mine \"\n",
      "Rank: 1\n",
      "\n",
      "Author: @idrisjoel\n",
      "Tweet: \"is stucked in Paris and can't even travel into France (for work) \"\n",
      "Rank: 4\n",
      "\n"
     ]
    }
   ],
   "source": [
    "results = index.search_text(text=\"Travel\", k=5)\n",
    "\n",
    "# rank of 0 is the most similar to the query\n",
    "for tweet in results.values():\n",
    "    tweet_id = tweet['metadata']['id']\n",
    "    tweet_data = df[df['ids'] == int(tweet_id)]\n",
    "    print(f\"Author: @{tweet_data['user'].values[0]}\\nTweet: \\\"{tweet_data['text'].values[0]}\\\"\\nRank: {tweet['rank']}\\n\")"
   ]
  }
 ],
 "metadata": {
  "kernelspec": {
   "display_name": "Python 3",
   "language": "python",
   "name": "python3"
  },
  "language_info": {
   "codemirror_mode": {
    "name": "ipython",
    "version": 3
   },
   "file_extension": ".py",
   "mimetype": "text/x-python",
   "name": "python",
   "nbconvert_exporter": "python",
   "pygments_lexer": "ipython3",
   "version": "3.9.5"
  }
 },
 "nbformat": 4,
 "nbformat_minor": 5
}
